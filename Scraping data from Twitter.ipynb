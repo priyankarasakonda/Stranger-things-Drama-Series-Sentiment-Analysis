{
 "cells": [
  {
   "cell_type": "code",
   "execution_count": 1,
   "id": "0b6530a4",
   "metadata": {},
   "outputs": [
    {
     "name": "stdout",
     "output_type": "stream",
     "text": [
      "Requirement already satisfied: tweepy in c:\\users\\priyanka\\anaconda3\\lib\\site-packages (4.10.0)\n",
      "Requirement already satisfied: requests<3,>=2.27.0 in c:\\users\\priyanka\\anaconda3\\lib\\site-packages (from tweepy) (2.28.0)\n",
      "Requirement already satisfied: requests-oauthlib<2,>=1.2.0 in c:\\users\\priyanka\\anaconda3\\lib\\site-packages (from tweepy) (1.3.1)\n",
      "Requirement already satisfied: oauthlib<4,>=3.2.0 in c:\\users\\priyanka\\anaconda3\\lib\\site-packages (from tweepy) (3.2.0)\n",
      "Requirement already satisfied: certifi>=2017.4.17 in c:\\users\\priyanka\\anaconda3\\lib\\site-packages (from requests<3,>=2.27.0->tweepy) (2022.6.15)\n",
      "Requirement already satisfied: urllib3<1.27,>=1.21.1 in c:\\users\\priyanka\\anaconda3\\lib\\site-packages (from requests<3,>=2.27.0->tweepy) (1.26.7)\n",
      "Requirement already satisfied: idna<4,>=2.5 in c:\\users\\priyanka\\anaconda3\\lib\\site-packages (from requests<3,>=2.27.0->tweepy) (3.2)\n",
      "Requirement already satisfied: charset-normalizer~=2.0.0 in c:\\users\\priyanka\\anaconda3\\lib\\site-packages (from requests<3,>=2.27.0->tweepy) (2.0.4)\n"
     ]
    },
    {
     "name": "stderr",
     "output_type": "stream",
     "text": [
      "\n",
      "[notice] A new release of pip available: 22.2.1 -> 22.2.2\n",
      "[notice] To update, run: python.exe -m pip install --upgrade pip\n"
     ]
    }
   ],
   "source": [
    "!pip install tweepy"
   ]
  },
  {
   "cell_type": "code",
   "execution_count": 2,
   "id": "ded53d7f",
   "metadata": {},
   "outputs": [
    {
     "name": "stderr",
     "output_type": "stream",
     "text": [
      "[nltk_data] Downloading package stopwords to\n",
      "[nltk_data]     C:\\Users\\Priyanka\\AppData\\Roaming\\nltk_data...\n",
      "[nltk_data]   Package stopwords is already up-to-date!\n"
     ]
    }
   ],
   "source": [
    "import numpy as np\n",
    "import pandas as pd\n",
    "from nltk.classify import NaiveBayesClassifier\n",
    "from nltk.corpus import subjectivity\n",
    "from nltk.sentiment import SentimentAnalyzer\n",
    "from nltk.sentiment.util import *\n",
    "import matplotlib.pyplot as plt\n",
    "\n",
    "import tweepy\n",
    "import csv\n",
    "import pandas as pd\n",
    "import random\n",
    "import numpy as np\n",
    "import pandas as pd\n",
    "\n",
    "import tensorflow as tf\n",
    "import seaborn as sns\n",
    "\n",
    "#For data visualization\n",
    "import matplotlib.pyplot as plt\n",
    "import matplotlib.patches as mpatches\n",
    "%matplotlib inline\n",
    "\n",
    "import nltk  #natural language processing\n",
    "nltk.download(\"stopwords\")\n",
    "from nltk.corpus import stopwords\n",
    "from nltk.stem.porter import *\n",
    "\n",
    "pd.options.plotting.backend = \"plotly\""
   ]
  },
  {
   "cell_type": "code",
   "execution_count": 3,
   "id": "39a64bb3",
   "metadata": {},
   "outputs": [],
   "source": [
    "import json\n",
    "import csv\n",
    "import tweepy\n",
    "import re"
   ]
  },
  {
   "cell_type": "code",
   "execution_count": 4,
   "id": "92007120",
   "metadata": {},
   "outputs": [],
   "source": [
    "def search_for_hashtags(consumer_key,consumer_secret,access_token,access_token_secret, hashtag_phrase):\n",
    "    \n",
    "    #create authentication for accessing twitter\n",
    "    auth = tweepy.OAuthHandler(consumer_key, consumer_secret)\n",
    "    auth.set_access_token(access_token, access_token_secret)\n",
    "    \n",
    "    #initialize twitter api\n",
    "    api = tweepy.API(auth,wait_on_rate_limit=True)\n",
    "    \n",
    "    #get the name of the spreadsheet we will write to\n",
    "    fname = '_'.join(re.findall(r\"#(\\w+)\", hashtag_phrase))\n",
    "    \n",
    "    #open the spreadsheet we will write to\n",
    "    with open('%s.csv' %(fname), 'w', encoding='utf-8') as file:\n",
    "        w = csv.writer(file)\n",
    "        \n",
    "        #write header row to spreadsheet\n",
    "        w.writerow([\"timestamp\",\"tweet_text\", \"username\", \"all_hastags\", \"location\"])\n",
    "        \n",
    "        #for each tweet matching our hashtags, write relevant info to the spreadsheet\n",
    "        for tweet in tweepy.Cursor(api.search_tweets, q=hashtag_phrase+' -filter:retweets', \\\n",
    "                                   lang='en', tweet_mode='extended').items(10000):\n",
    "            \n",
    "            w.writerow([tweet.created_at, tweet.full_text.replace('\\n','').encode('utf-8'), tweet.user.screen_name.encode('utf-8'), [e['text'] for e in tweet._json['entities']['hashtags']], tweet.user.followers_count])\n",
    "    \n"
   ]
  },
  {
   "cell_type": "code",
   "execution_count": 5,
   "id": "2357495b",
   "metadata": {},
   "outputs": [],
   "source": [
    "consumer_key = 'YnVo2ju8E4OW2uZ3TRJQJbN0q'\n",
    "consumer_secret = 'ZFmZEw6QhlNr43sORGW2fs2KuwDbGwJAE1So63801tEaxwBMI5'\n",
    "access_token = '1526338050476867586-8xyKzUBAorrpROm57vJ28zbLD13fE9'\n",
    "access_token_secret='P8aqoxKE5eknhJ21kUH5cT7awyZTglLJLgpsBoPcTtjWh'\n",
    "\n",
    "hashtag_phrase = '#StrangerThings'"
   ]
  },
  {
   "cell_type": "code",
   "execution_count": null,
   "id": "d05f6aca",
   "metadata": {},
   "outputs": [],
   "source": [
    "\n",
    "if __name__ == '__main__':\n",
    "    search_for_hashtags(consumer_key,consumer_secret,access_token,access_token_secret, hashtag_phrase)\n",
    "    "
   ]
  },
  {
   "cell_type": "code",
   "execution_count": 7,
   "id": "cfc6be39",
   "metadata": {},
   "outputs": [
    {
     "data": {
      "text/plain": [
       "(2670, 5)"
      ]
     },
     "execution_count": 7,
     "metadata": {},
     "output_type": "execute_result"
    }
   ],
   "source": [
    "import pandas as pd\n",
    "\n",
    "df = pd.read_csv('StrangerThings.csv')\n",
    "df.shape"
   ]
  },
  {
   "cell_type": "code",
   "execution_count": 8,
   "id": "854bb664",
   "metadata": {},
   "outputs": [
    {
     "data": {
      "text/html": [
       "<div>\n",
       "<style scoped>\n",
       "    .dataframe tbody tr th:only-of-type {\n",
       "        vertical-align: middle;\n",
       "    }\n",
       "\n",
       "    .dataframe tbody tr th {\n",
       "        vertical-align: top;\n",
       "    }\n",
       "\n",
       "    .dataframe thead th {\n",
       "        text-align: right;\n",
       "    }\n",
       "</style>\n",
       "<table border=\"1\" class=\"dataframe\">\n",
       "  <thead>\n",
       "    <tr style=\"text-align: right;\">\n",
       "      <th></th>\n",
       "      <th>timestamp</th>\n",
       "      <th>tweet_text</th>\n",
       "      <th>username</th>\n",
       "      <th>all_hastags</th>\n",
       "      <th>followers_count</th>\n",
       "    </tr>\n",
       "  </thead>\n",
       "  <tbody>\n",
       "    <tr>\n",
       "      <th>0</th>\n",
       "      <td>2022-08-14 03:35:55+00:00</td>\n",
       "      <td>b'Steve Kitty#steveharrington #kitty #stevekit...</td>\n",
       "      <td>b'Anajuliaaee'</td>\n",
       "      <td>['steveharrington', 'kitty', 'stevekitty', 'St...</td>\n",
       "      <td>1</td>\n",
       "    </tr>\n",
       "    <tr>\n",
       "      <th>1</th>\n",
       "      <td>2022-08-14 03:31:40+00:00</td>\n",
       "      <td>b'After binge watching #StrangerThings this we...</td>\n",
       "      <td>b'mariadealNP'</td>\n",
       "      <td>['StrangerThings', 'VictorCreelHouse']</td>\n",
       "      <td>55</td>\n",
       "    </tr>\n",
       "    <tr>\n",
       "      <th>2</th>\n",
       "      <td>2022-08-14 03:29:06+00:00</td>\n",
       "      <td>b'- \\xf0\\x9d\\x98\\x8a\\xf0\\x9d\\x98\\xa2\\xf0\\x9d\\x...</td>\n",
       "      <td>b'Per_cyhale'</td>\n",
       "      <td>['StrangerThings', 'OC']</td>\n",
       "      <td>10</td>\n",
       "    </tr>\n",
       "    <tr>\n",
       "      <th>3</th>\n",
       "      <td>2022-08-14 03:27:43+00:00</td>\n",
       "      <td>b'Love these two so much \\xf0\\x9f\\xab\\xb6\\xf0\\...</td>\n",
       "      <td>b'ShavaunChaytor'</td>\n",
       "      <td>['Joekeey', 'JosephQuinn', 'steveharrington', ...</td>\n",
       "      <td>528</td>\n",
       "    </tr>\n",
       "    <tr>\n",
       "      <th>4</th>\n",
       "      <td>2022-08-14 03:27:13+00:00</td>\n",
       "      <td>b'HER VOICE #mayahawke #Singing #mayahawke #St...</td>\n",
       "      <td>b'Hearts4Robin_'</td>\n",
       "      <td>['mayahawke', 'Singing', 'mayahawke', 'Strange...</td>\n",
       "      <td>1</td>\n",
       "    </tr>\n",
       "  </tbody>\n",
       "</table>\n",
       "</div>"
      ],
      "text/plain": [
       "                   timestamp  \\\n",
       "0  2022-08-14 03:35:55+00:00   \n",
       "1  2022-08-14 03:31:40+00:00   \n",
       "2  2022-08-14 03:29:06+00:00   \n",
       "3  2022-08-14 03:27:43+00:00   \n",
       "4  2022-08-14 03:27:13+00:00   \n",
       "\n",
       "                                          tweet_text           username  \\\n",
       "0  b'Steve Kitty#steveharrington #kitty #stevekit...     b'Anajuliaaee'   \n",
       "1  b'After binge watching #StrangerThings this we...     b'mariadealNP'   \n",
       "2  b'- \\xf0\\x9d\\x98\\x8a\\xf0\\x9d\\x98\\xa2\\xf0\\x9d\\x...      b'Per_cyhale'   \n",
       "3  b'Love these two so much \\xf0\\x9f\\xab\\xb6\\xf0\\...  b'ShavaunChaytor'   \n",
       "4  b'HER VOICE #mayahawke #Singing #mayahawke #St...   b'Hearts4Robin_'   \n",
       "\n",
       "                                         all_hastags  followers_count  \n",
       "0  ['steveharrington', 'kitty', 'stevekitty', 'St...                1  \n",
       "1             ['StrangerThings', 'VictorCreelHouse']               55  \n",
       "2                           ['StrangerThings', 'OC']               10  \n",
       "3  ['Joekeey', 'JosephQuinn', 'steveharrington', ...              528  \n",
       "4  ['mayahawke', 'Singing', 'mayahawke', 'Strange...                1  "
      ]
     },
     "execution_count": 8,
     "metadata": {},
     "output_type": "execute_result"
    }
   ],
   "source": [
    "df.head()"
   ]
  },
  {
   "cell_type": "code",
   "execution_count": null,
   "id": "8b60ccb7",
   "metadata": {},
   "outputs": [],
   "source": []
  },
  {
   "cell_type": "code",
   "execution_count": null,
   "id": "c992975f",
   "metadata": {},
   "outputs": [],
   "source": []
  },
  {
   "cell_type": "code",
   "execution_count": null,
   "id": "993c9b75",
   "metadata": {},
   "outputs": [],
   "source": []
  },
  {
   "cell_type": "code",
   "execution_count": null,
   "id": "cc6801bd",
   "metadata": {},
   "outputs": [],
   "source": []
  },
  {
   "cell_type": "code",
   "execution_count": null,
   "id": "1431fc13",
   "metadata": {},
   "outputs": [],
   "source": []
  },
  {
   "cell_type": "code",
   "execution_count": null,
   "id": "c5e10d28",
   "metadata": {},
   "outputs": [],
   "source": []
  },
  {
   "cell_type": "code",
   "execution_count": null,
   "id": "4be13308",
   "metadata": {},
   "outputs": [],
   "source": []
  }
 ],
 "metadata": {
  "kernelspec": {
   "display_name": "Python 3 (ipykernel)",
   "language": "python",
   "name": "python3"
  },
  "language_info": {
   "codemirror_mode": {
    "name": "ipython",
    "version": 3
   },
   "file_extension": ".py",
   "mimetype": "text/x-python",
   "name": "python",
   "nbconvert_exporter": "python",
   "pygments_lexer": "ipython3",
   "version": "3.9.7"
  }
 },
 "nbformat": 4,
 "nbformat_minor": 5
}
